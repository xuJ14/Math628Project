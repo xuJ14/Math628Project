{
  "nbformat": 4,
  "nbformat_minor": 0,
  "metadata": {
    "colab": {
      "name": "project.ipynb",
      "provenance": [],
      "authorship_tag": "ABX9TyPPOUEOmGC34NoD9B5tSa7j",
      "include_colab_link": true
    },
    "kernelspec": {
      "name": "python3",
      "display_name": "Python 3"
    },
    "language_info": {
      "name": "python"
    }
  },
  "cells": [
    {
      "cell_type": "markdown",
      "metadata": {
        "id": "view-in-github",
        "colab_type": "text"
      },
      "source": [
        "<a href=\"https://colab.research.google.com/github/xuJ14/Math628Project/blob/main/project.ipynb\" target=\"_parent\"><img src=\"https://colab.research.google.com/assets/colab-badge.svg\" alt=\"Open In Colab\"/></a>"
      ]
    },
    {
      "cell_type": "code",
      "source": [
        "rm -rf Math628Project"
      ],
      "metadata": {
        "id": "Hp7qgZLZ0ctg"
      },
      "execution_count": 22,
      "outputs": []
    },
    {
      "cell_type": "code",
      "execution_count": 23,
      "metadata": {
        "colab": {
          "base_uri": "https://localhost:8080/"
        },
        "id": "wnGTmorFr_FA",
        "outputId": "cec495be-52cf-4e13-ba82-23fc71d50eef"
      },
      "outputs": [
        {
          "output_type": "stream",
          "name": "stdout",
          "text": [
            "Cloning into 'Math628Project'...\n",
            "remote: Enumerating objects: 16, done.\u001b[K\n",
            "remote: Counting objects: 100% (16/16), done.\u001b[K\n",
            "remote: Compressing objects: 100% (16/16), done.\u001b[K\n",
            "remote: Total 16 (delta 4), reused 0 (delta 0), pack-reused 0\u001b[K\n",
            "Unpacking objects: 100% (16/16), done.\n"
          ]
        }
      ],
      "source": [
        "!git clone https://github.com/xuJ14/Math628Project"
      ]
    },
    {
      "cell_type": "code",
      "source": [
        "# 查看工作路径\n",
        "import os\n",
        " \n",
        "print(os.getcwd())\n",
        " \n",
        " \n",
        "# 修改工作路径\n",
        "import os\n",
        "from google.colab import drive\n",
        "\n",
        "path = \"/content/Math628Project\"\n",
        "os.chdir(path)"
      ],
      "metadata": {
        "colab": {
          "base_uri": "https://localhost:8080/"
        },
        "id": "DcT9Rw2q1YkO",
        "outputId": "a54f73fc-65f1-4ac3-c45a-29b949d348cb"
      },
      "execution_count": 26,
      "outputs": [
        {
          "output_type": "stream",
          "name": "stdout",
          "text": [
            "/content\n"
          ]
        }
      ]
    },
    {
      "cell_type": "code",
      "source": [
        "import project\n",
        "from sklearn.ensemble import StackingClassifier\n",
        "from sklearn.ensemble import RandomForestClassifier\n",
        "from sklearn.pipeline import make_pipeline\n",
        "from sklearn.preprocessing import StandardScaler\n",
        "from sklearn.svm import SVC\n",
        "from sklearn.linear_model import LogisticRegression\n",
        "from lightgbm import LGBMClassifier\n",
        "from xgboost import XGBClassifier\n",
        "from sklearn.ensemble import ExtraTreesClassifier\n",
        "from sklearn.model_selection import RepeatedStratifiedKFold\n",
        "from sklearn.model_selection import cross_val_score\n",
        "from sklearn.model_selection import cross_validate\n",
        "import matplotlib.pyplot as plt\n",
        "import warnings\n",
        "import pandas as pd\n",
        "import numpy as np\n",
        "from sklearn.model_selection import train_test_split\n"
      ],
      "metadata": {
        "id": "ZMd92IJwuj1e"
      },
      "execution_count": 35,
      "outputs": []
    },
    {
      "cell_type": "markdown",
      "source": [
        "## no pca 2"
      ],
      "metadata": {
        "id": "-G56ony0_I9i"
      }
    },
    {
      "cell_type": "code",
      "source": [
        "\n",
        "Dow_estimators = dict()\n",
        "Dow_estimators['rf']=RandomForestClassifier(max_features=1, n_estimators=500)\n",
        "Dow_estimators['svc']=make_pipeline(StandardScaler(),SVC(C=10, gamma=0.1))\n",
        "Dow_estimators['lgbm']=LGBMClassifier(learning_rate=0.5, max_depth=8, n_estimators=200, reg_lambda=10)\n",
        "Dow_estimators['etc']=ExtraTreesClassifier(max_features=0.4)\n",
        "Dow_estimators['xgb']=XGBClassifier(learning_rate=0.1,max_depth=8,n_estimators=200,reg_lambda=10)\n",
        "Dow_estimators['clf']=StackingClassifier(estimators=list(Dow_estimators.items()),final_estimator=LogisticRegression(),cv=5)"
      ],
      "metadata": {
        "id": "yN31NFnTuHRH"
      },
      "execution_count": 79,
      "outputs": []
    },
    {
      "cell_type": "code",
      "source": [
        "SP500_estimators = dict()\n",
        "SP500_estimators['rf']=RandomForestClassifier(max_features=0.2, n_estimators=200)\n",
        "SP500_estimators['svc']=make_pipeline(StandardScaler(),SVC(C=10, gamma=0.1))\n",
        "SP500_estimators['lgbm']=LGBMClassifier(learning_rate=0.5, max_depth=8, reg_lambda=1)\n",
        "SP500_estimators['etc']=ExtraTreesClassifier(max_features=0.8, n_estimators=200)\n",
        "SP500_estimators['xgb']=XGBClassifier(learning_rate=1,max_depth=8,n_estimators=200,reg_lambda=10)\n",
        "SP500_estimators['clf']=StackingClassifier(estimators=list(SP500_estimators.items()),final_estimator=LogisticRegression(),cv=5)\n"
      ],
      "metadata": {
        "id": "poC-yuCSsI5m"
      },
      "execution_count": 80,
      "outputs": []
    },
    {
      "cell_type": "code",
      "source": [
        "Nasdaq_estimators = dict()\n",
        "Nasdaq_estimators['rf']=RandomForestClassifier(n_estimators=200)\n",
        "Nasdaq_estimators['svc']=make_pipeline(StandardScaler(),SVC(C=10, gamma=0.1))\n",
        "Nasdaq_estimators['lgbm']=LGBMClassifier(learning_rate=0.5, max_depth=8, n_estimators=200, reg_lambda=0)\n",
        "Nasdaq_estimators['etc']=ExtraTreesClassifier(max_features=0.8, n_estimators=200)\n",
        "Nasdaq_estimators['xgb']=XGBClassifier(learning_rate=0.1,max_depth=8,n_estimators=200,reg_lambda=0.1)\n",
        "Nasdaq_estimators['clf']=StackingClassifier(estimators=list(Nasdaq_estimators.items()),final_estimator=LogisticRegression(),cv=5)\n"
      ],
      "metadata": {
        "id": "D5tjTtqOtZB_"
      },
      "execution_count": 81,
      "outputs": []
    },
    {
      "cell_type": "code",
      "source": [
        "%%capture\n",
        "from sklearn import metrics\n",
        "# evaluate\n",
        "Model=dict()\n",
        "name=['Dow','SP500','Nasdaq']\n",
        "for i in name:\n",
        "    data = pd.read_csv(\"{}_data_2.csv\".format(i),index_col=0)\n",
        "    data = data.dropna(axis=0,how='any')\n",
        "    data.iloc[data.iloc[:,-1]==0,-1]=1\n",
        "    # model data: 2006-01-01 to 2019-01-01\n",
        "    model_data = data.iloc[pd.to_datetime(data.index)<pd.to_datetime('2019-01-01'),:]\n",
        "    trace_data = data.iloc[pd.to_datetime(data.index)>=pd.to_datetime('2019-01-01'),:]\n",
        "    X_train,X_test,y_train,y_test=train_test_split(model_data.iloc[:,:-1],model_data.iloc[:,-1][:,None],test_size=0.3,random_state=1)\n",
        "    X_trace=trace_data.iloc[:,:-1]\n",
        "    y_trace=trace_data.iloc[:,-1]\n",
        "    \n",
        "    #create the variable to save the data\n",
        "    performance_matrix=pd.DataFrame(columns=['Accuracy','Precision','Recall','F1wght','F1micro'])\n",
        "    X_train,X_test,X_trace,c=project.pca(X_train,X_test,X_trace,22)\n",
        "    #calculate the score of eacy best model in train set.\n",
        "    exec('best_estimators='+i+'_estimators')\n",
        "    for name, model in best_estimators.items():\n",
        "      print(name)\n",
        "      model.fit(X_train,y_train)\n",
        "      y_pred = model.predict(X_test)\n",
        "      dicmet = {\n",
        "          'Accuracy':metrics.accuracy_score(y_test,y_pred), \n",
        "          'Precision':metrics.precision_score(y_test,y_pred,average='weighted'),\n",
        "          'Recall':metrics.recall_score(y_test,y_pred,average='weighted'),\n",
        "          'F1wght':metrics.f1_score(y_test,y_pred,average='weighted'),\n",
        "          'F1micro':metrics.f1_score(y_test,y_pred,average='micro')\n",
        "          }\n",
        "      performance_matrix.loc[name]=dicmet\n",
        "    performance_matrix.to_csv(i+'_performance_pca_2.csv')\n"
      ],
      "metadata": {
        "id": "-18grM4MtcV_"
      },
      "execution_count": 82,
      "outputs": []
    },
    {
      "cell_type": "code",
      "source": [
        "dicmet"
      ],
      "metadata": {
        "colab": {
          "base_uri": "https://localhost:8080/"
        },
        "id": "ueX4kB8B_coY",
        "outputId": "1e821b0b-108e-441a-8d46-d362c7992541"
      },
      "execution_count": 56,
      "outputs": [
        {
          "output_type": "execute_result",
          "data": {
            "text/plain": [
              "{'Accuracy': 0.6588594704684317,\n",
              " 'F1micro': 0.6588594704684317,\n",
              " 'F1wght': 0.6506810744790203,\n",
              " 'Precision': 0.6542688812358805,\n",
              " 'Recall': 0.6588594704684317}"
            ]
          },
          "metadata": {},
          "execution_count": 56
        }
      ]
    },
    {
      "cell_type": "code",
      "source": [
        "performance_matrix.loc[name]=dicmet"
      ],
      "metadata": {
        "id": "2pgeL3MuJbBb"
      },
      "execution_count": 59,
      "outputs": []
    },
    {
      "cell_type": "code",
      "source": [
        "performance_matrix"
      ],
      "metadata": {
        "colab": {
          "base_uri": "https://localhost:8080/",
          "height": 237
        },
        "id": "hpHEG5ftJdaI",
        "outputId": "f356918b-f17d-460c-f56d-387e485bb4e4"
      },
      "execution_count": 60,
      "outputs": [
        {
          "output_type": "execute_result",
          "data": {
            "text/plain": [
              "           Accuracy  Precision    Recall    F1wght   F1micro         rf  \\\n",
              "Accuracy        NaN        NaN       NaN       NaN       NaN   Accuracy   \n",
              "Precision       NaN        NaN       NaN       NaN       NaN  Precision   \n",
              "Recall          NaN        NaN       NaN       NaN       NaN     Recall   \n",
              "F1wght          NaN        NaN       NaN       NaN       NaN     F1wght   \n",
              "F1micro         NaN        NaN       NaN       NaN       NaN    F1micro   \n",
              "clf        0.658859   0.654269  0.658859  0.650681  0.658859        NaN   \n",
              "\n",
              "                 svc       lgbm        etc        xgb        clf  \n",
              "Accuracy    Accuracy   Accuracy   Accuracy   Accuracy   Accuracy  \n",
              "Precision  Precision  Precision  Precision  Precision  Precision  \n",
              "Recall        Recall     Recall     Recall     Recall     Recall  \n",
              "F1wght        F1wght     F1wght     F1wght     F1wght     F1wght  \n",
              "F1micro      F1micro    F1micro    F1micro    F1micro    F1micro  \n",
              "clf              NaN        NaN        NaN        NaN        NaN  "
            ],
            "text/html": [
              "\n",
              "  <div id=\"df-4fb50c7a-561b-476d-8bd1-f8266745108d\">\n",
              "    <div class=\"colab-df-container\">\n",
              "      <div>\n",
              "<style scoped>\n",
              "    .dataframe tbody tr th:only-of-type {\n",
              "        vertical-align: middle;\n",
              "    }\n",
              "\n",
              "    .dataframe tbody tr th {\n",
              "        vertical-align: top;\n",
              "    }\n",
              "\n",
              "    .dataframe thead th {\n",
              "        text-align: right;\n",
              "    }\n",
              "</style>\n",
              "<table border=\"1\" class=\"dataframe\">\n",
              "  <thead>\n",
              "    <tr style=\"text-align: right;\">\n",
              "      <th></th>\n",
              "      <th>Accuracy</th>\n",
              "      <th>Precision</th>\n",
              "      <th>Recall</th>\n",
              "      <th>F1wght</th>\n",
              "      <th>F1micro</th>\n",
              "      <th>rf</th>\n",
              "      <th>svc</th>\n",
              "      <th>lgbm</th>\n",
              "      <th>etc</th>\n",
              "      <th>xgb</th>\n",
              "      <th>clf</th>\n",
              "    </tr>\n",
              "  </thead>\n",
              "  <tbody>\n",
              "    <tr>\n",
              "      <th>Accuracy</th>\n",
              "      <td>NaN</td>\n",
              "      <td>NaN</td>\n",
              "      <td>NaN</td>\n",
              "      <td>NaN</td>\n",
              "      <td>NaN</td>\n",
              "      <td>Accuracy</td>\n",
              "      <td>Accuracy</td>\n",
              "      <td>Accuracy</td>\n",
              "      <td>Accuracy</td>\n",
              "      <td>Accuracy</td>\n",
              "      <td>Accuracy</td>\n",
              "    </tr>\n",
              "    <tr>\n",
              "      <th>Precision</th>\n",
              "      <td>NaN</td>\n",
              "      <td>NaN</td>\n",
              "      <td>NaN</td>\n",
              "      <td>NaN</td>\n",
              "      <td>NaN</td>\n",
              "      <td>Precision</td>\n",
              "      <td>Precision</td>\n",
              "      <td>Precision</td>\n",
              "      <td>Precision</td>\n",
              "      <td>Precision</td>\n",
              "      <td>Precision</td>\n",
              "    </tr>\n",
              "    <tr>\n",
              "      <th>Recall</th>\n",
              "      <td>NaN</td>\n",
              "      <td>NaN</td>\n",
              "      <td>NaN</td>\n",
              "      <td>NaN</td>\n",
              "      <td>NaN</td>\n",
              "      <td>Recall</td>\n",
              "      <td>Recall</td>\n",
              "      <td>Recall</td>\n",
              "      <td>Recall</td>\n",
              "      <td>Recall</td>\n",
              "      <td>Recall</td>\n",
              "    </tr>\n",
              "    <tr>\n",
              "      <th>F1wght</th>\n",
              "      <td>NaN</td>\n",
              "      <td>NaN</td>\n",
              "      <td>NaN</td>\n",
              "      <td>NaN</td>\n",
              "      <td>NaN</td>\n",
              "      <td>F1wght</td>\n",
              "      <td>F1wght</td>\n",
              "      <td>F1wght</td>\n",
              "      <td>F1wght</td>\n",
              "      <td>F1wght</td>\n",
              "      <td>F1wght</td>\n",
              "    </tr>\n",
              "    <tr>\n",
              "      <th>F1micro</th>\n",
              "      <td>NaN</td>\n",
              "      <td>NaN</td>\n",
              "      <td>NaN</td>\n",
              "      <td>NaN</td>\n",
              "      <td>NaN</td>\n",
              "      <td>F1micro</td>\n",
              "      <td>F1micro</td>\n",
              "      <td>F1micro</td>\n",
              "      <td>F1micro</td>\n",
              "      <td>F1micro</td>\n",
              "      <td>F1micro</td>\n",
              "    </tr>\n",
              "    <tr>\n",
              "      <th>clf</th>\n",
              "      <td>0.658859</td>\n",
              "      <td>0.654269</td>\n",
              "      <td>0.658859</td>\n",
              "      <td>0.650681</td>\n",
              "      <td>0.658859</td>\n",
              "      <td>NaN</td>\n",
              "      <td>NaN</td>\n",
              "      <td>NaN</td>\n",
              "      <td>NaN</td>\n",
              "      <td>NaN</td>\n",
              "      <td>NaN</td>\n",
              "    </tr>\n",
              "  </tbody>\n",
              "</table>\n",
              "</div>\n",
              "      <button class=\"colab-df-convert\" onclick=\"convertToInteractive('df-4fb50c7a-561b-476d-8bd1-f8266745108d')\"\n",
              "              title=\"Convert this dataframe to an interactive table.\"\n",
              "              style=\"display:none;\">\n",
              "        \n",
              "  <svg xmlns=\"http://www.w3.org/2000/svg\" height=\"24px\"viewBox=\"0 0 24 24\"\n",
              "       width=\"24px\">\n",
              "    <path d=\"M0 0h24v24H0V0z\" fill=\"none\"/>\n",
              "    <path d=\"M18.56 5.44l.94 2.06.94-2.06 2.06-.94-2.06-.94-.94-2.06-.94 2.06-2.06.94zm-11 1L8.5 8.5l.94-2.06 2.06-.94-2.06-.94L8.5 2.5l-.94 2.06-2.06.94zm10 10l.94 2.06.94-2.06 2.06-.94-2.06-.94-.94-2.06-.94 2.06-2.06.94z\"/><path d=\"M17.41 7.96l-1.37-1.37c-.4-.4-.92-.59-1.43-.59-.52 0-1.04.2-1.43.59L10.3 9.45l-7.72 7.72c-.78.78-.78 2.05 0 2.83L4 21.41c.39.39.9.59 1.41.59.51 0 1.02-.2 1.41-.59l7.78-7.78 2.81-2.81c.8-.78.8-2.07 0-2.86zM5.41 20L4 18.59l7.72-7.72 1.47 1.35L5.41 20z\"/>\n",
              "  </svg>\n",
              "      </button>\n",
              "      \n",
              "  <style>\n",
              "    .colab-df-container {\n",
              "      display:flex;\n",
              "      flex-wrap:wrap;\n",
              "      gap: 12px;\n",
              "    }\n",
              "\n",
              "    .colab-df-convert {\n",
              "      background-color: #E8F0FE;\n",
              "      border: none;\n",
              "      border-radius: 50%;\n",
              "      cursor: pointer;\n",
              "      display: none;\n",
              "      fill: #1967D2;\n",
              "      height: 32px;\n",
              "      padding: 0 0 0 0;\n",
              "      width: 32px;\n",
              "    }\n",
              "\n",
              "    .colab-df-convert:hover {\n",
              "      background-color: #E2EBFA;\n",
              "      box-shadow: 0px 1px 2px rgba(60, 64, 67, 0.3), 0px 1px 3px 1px rgba(60, 64, 67, 0.15);\n",
              "      fill: #174EA6;\n",
              "    }\n",
              "\n",
              "    [theme=dark] .colab-df-convert {\n",
              "      background-color: #3B4455;\n",
              "      fill: #D2E3FC;\n",
              "    }\n",
              "\n",
              "    [theme=dark] .colab-df-convert:hover {\n",
              "      background-color: #434B5C;\n",
              "      box-shadow: 0px 1px 3px 1px rgba(0, 0, 0, 0.15);\n",
              "      filter: drop-shadow(0px 1px 2px rgba(0, 0, 0, 0.3));\n",
              "      fill: #FFFFFF;\n",
              "    }\n",
              "  </style>\n",
              "\n",
              "      <script>\n",
              "        const buttonEl =\n",
              "          document.querySelector('#df-4fb50c7a-561b-476d-8bd1-f8266745108d button.colab-df-convert');\n",
              "        buttonEl.style.display =\n",
              "          google.colab.kernel.accessAllowed ? 'block' : 'none';\n",
              "\n",
              "        async function convertToInteractive(key) {\n",
              "          const element = document.querySelector('#df-4fb50c7a-561b-476d-8bd1-f8266745108d');\n",
              "          const dataTable =\n",
              "            await google.colab.kernel.invokeFunction('convertToInteractive',\n",
              "                                                     [key], {});\n",
              "          if (!dataTable) return;\n",
              "\n",
              "          const docLinkHtml = 'Like what you see? Visit the ' +\n",
              "            '<a target=\"_blank\" href=https://colab.research.google.com/notebooks/data_table.ipynb>data table notebook</a>'\n",
              "            + ' to learn more about interactive tables.';\n",
              "          element.innerHTML = '';\n",
              "          dataTable['output_type'] = 'display_data';\n",
              "          await google.colab.output.renderOutput(dataTable, element);\n",
              "          const docLink = document.createElement('div');\n",
              "          docLink.innerHTML = docLinkHtml;\n",
              "          element.appendChild(docLink);\n",
              "        }\n",
              "      </script>\n",
              "    </div>\n",
              "  </div>\n",
              "  "
            ]
          },
          "metadata": {},
          "execution_count": 60
        }
      ]
    },
    {
      "cell_type": "code",
      "source": [
        ""
      ],
      "metadata": {
        "id": "M7RiECB9JyVg"
      },
      "execution_count": null,
      "outputs": []
    }
  ]
}